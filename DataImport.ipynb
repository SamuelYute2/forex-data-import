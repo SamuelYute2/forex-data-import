{
 "cells": [
  {
   "cell_type": "markdown",
   "metadata": {},
   "source": [
    "## OHLC Minute Data Import, Cleaning and Resampling\n",
    "In this notebook we process some raw forex data from Dukascopy. The goal is to Import, Clean, Resample and Organize the\n",
    "Data."
   ]
  },
  {
   "cell_type": "markdown",
   "metadata": {
    "pycharm": {
     "name": "#%% md\n"
    }
   },
   "source": [
    "### Imports\n",
    "We start by importing the **os** and **pandas** modules. We will largely use Pandas for almost everything."
   ]
  },
  {
   "cell_type": "code",
   "execution_count": 18,
   "metadata": {
    "pycharm": {
     "name": "#%%\n"
    }
   },
   "outputs": [],
   "source": [
    "import os\n",
    "import pandas as pd"
   ]
  },
  {
   "cell_type": "markdown",
   "metadata": {},
   "source": [
    "### Defining Critical Functions"
   ]
  },
  {
   "cell_type": "markdown",
   "metadata": {
    "pycharm": {
     "name": "#%% md\n"
    }
   },
   "source": [
    "#### 1. Create an Organized Folder Structure for the Processed OHLC\n",
    "We use the python **os** module to first of all check to see if the paths to our folders exist. We then create folders for the paths if they don't exist."
   ]
  },
  {
   "cell_type": "code",
   "execution_count": 19,
   "metadata": {
    "pycharm": {
     "name": "#%%\n"
    }
   },
   "outputs": [],
   "source": [
    "def create_folder_if_not_exists(currency_pair, year):\n",
    "    base_path = 'FXData/CurrencyPairs'\n",
    "\n",
    "    currency_pair_path = base_path + '/' + currency_pair\n",
    "    if not os.path.exists(currency_pair_path):\n",
    "        os.mkdir(currency_pair_path)\n",
    "\n",
    "    year_path = currency_pair_path + '/' + year\n",
    "    if not os.path.exists(year_path):\n",
    "        os.mkdir(year_path)\n"
   ]
  },
  {
   "cell_type": "markdown",
   "metadata": {},
   "source": [
    "#### 2. Resample the OHLC to the Defined Interval\n",
    "Using a dictionary, we first of all map the Dataframe columns to the ones pandas recognises for resampling.\n",
    "\n",
    "We then use the resample function available to our OHLC Dataframe to aggregate based on our dictionary of column mappings.\n",
    "\n",
    "We make sure to drop all NaNs and then return a new Dataframe with the required OHLC columns."
   ]
  },
  {
   "cell_type": "code",
   "execution_count": 20,
   "metadata": {
    "pycharm": {
     "name": "#%%\n"
    }
   },
   "outputs": [],
   "source": [
    "def resample_ohlc(ohlc, interval):\n",
    "    ohlc_dict = {'open': 'first', 'high': 'max', 'low': 'min', 'close': 'last', 'volume': 'sum'}\n",
    "    ohlc = ohlc.resample(interval).agg(ohlc_dict).dropna(how='any')\n",
    "\n",
    "    cols = ['open', 'high', 'low', 'close', 'volume']\n",
    "    return ohlc[cols]\n"
   ]
  },
  {
   "cell_type": "markdown",
   "metadata": {},
   "source": [
    "#### 3. Parse the Raw Dukascopy Datetime string into an acceptable of Datetime Format\n",
    "The Raw Dukascopy Datetime is in this format : **01.01.2019 00:00:00.000 GMT+0200** which can not be parsed by Pandas.\n",
    "\n",
    "Using the **split** function and a single space as our delimiter, we first break the datetime sting into three sections\n",
    "namely: **Date, Time, Timezone**; which become our List elements inside the **datetime_list**\n",
    "\n",
    "We use the split function and a **'.'** as our delimiter to break the **Date** which is the first element of\n",
    "the **datetime_list** into **Day, Month, Year** which make the **date_list**.\n",
    "\n",
    "Using the delimiter **':'**, we then split the **time** element from the **datetime_list** into **Hour, Minute, Second**\n",
    "to make the **time_list**.\n",
    "\n",
    "Finally we return a properly formatted dictionary accepted by Pandas."
   ]
  },
  {
   "cell_type": "code",
   "execution_count": 21,
   "metadata": {
    "pycharm": {
     "name": "#%%\n"
    }
   },
   "outputs": [],
   "source": [
    "def parse_dukascopy_raw_date_time(datetime):\n",
    "    datetime_list = datetime.split(' ')\n",
    "    date_list = datetime_list[0].split('.')\n",
    "    time_list = datetime_list[1].split(':')\n",
    "\n",
    "    return date_list[2]+\"-\"+date_list[1]+\"-\"+date_list[0]+\" \"+time_list[0]+\":\"+time_list[1]+\":\"+time_list[2][:2]"
   ]
  },
  {
   "cell_type": "markdown",
   "metadata": {},
   "source": [
    "#### 4. Import the OHLC Files and Resample them to typical analysis Timeframes\n",
    "We use Pandas to read the csv files with OHLC data. We tell pandas to make sure it does the following during the import:\n",
    "\n",
    "1. Make sure that it parses all dates it finds in the csv file\n",
    "2. Use the **parse_dukascopy_raw_date_time** custom function we defined to parse the dates\n",
    "3. Use the first row of the csv file as the column header and select the columns to import\n",
    "4. Use the 0th column index as Dataframe index\n",
    "5. Define all values to be set as NaN\n",
    "6. The delimiter of the csv file.\n",
    "\n",
    "After the import is successful, we define a list of intervals for resampling.\n",
    "\n",
    "We also check to see if an organised folder structure exists for the currency pair and year.\n",
    "\n",
    "Now for each interval we resample the OHLC Minute data and then Save the returned Dataframe in a csv at the specified\n",
    "path"
   ]
  },
  {
   "cell_type": "code",
   "execution_count": 22,
   "metadata": {
    "pycharm": {
     "name": "#%%\n"
    }
   },
   "outputs": [],
   "source": [
    "def import_from_dukascopy_ohlc(path, currency_pair, year, delimiter=','):\n",
    "    ohlc = pd.read_csv(path + '.csv',\n",
    "                       parse_dates=True,\n",
    "                       date_parser=parse_dukascopy_raw_date_time,\n",
    "                       usecols=['datetime', 'open', 'high', 'low', 'close', 'volume'],\n",
    "                       index_col=0,\n",
    "                       na_values=['nan'],\n",
    "                       delimiter=delimiter)\n",
    "\n",
    "    intervals = ['1Min', '5Min', '15Min', '30Min', '1H', '2H', '4H', '6H', '8H', '1D', '1W', '1M']\n",
    "    create_folder_if_not_exists(currency_pair, year)\n",
    "\n",
    "    for interval in intervals:\n",
    "        ohlc = resample_ohlc(ohlc, interval)\n",
    "        ohlc = ohlc[(ohlc.open != ohlc.high) | (ohlc.high != ohlc.low) | (ohlc.low != ohlc.close)].round(5)\n",
    "        ohlc.to_csv('FXData/CurrencyPairs/'+str(currency_pair)+'/'+str(year)+'/'+str(interval)+'.csv')\n",
    "\n"
   ]
  },
  {
   "cell_type": "markdown",
   "metadata": {},
   "source": [
    "### Define Configurations"
   ]
  },
  {
   "cell_type": "markdown",
   "metadata": {},
   "source": [
    "The **years** list defines the years which your files have data for. Make sure the file names take the following\n",
    "format : CurrencyPairM1Year e.g GBPUSDM12020"
   ]
  },
  {
   "cell_type": "code",
   "execution_count": 23,
   "metadata": {
    "pycharm": {
     "name": "#%%\n"
    }
   },
   "outputs": [],
   "source": [
    "years = ['2018', '2019']"
   ]
  },
  {
   "cell_type": "markdown",
   "metadata": {
    "pycharm": {
     "name": "#%% md\n"
    }
   },
   "source": [
    "The **currency_pairs** list defines the currency pairs which your files have data for."
   ]
  },
  {
   "cell_type": "code",
   "execution_count": 24,
   "metadata": {
    "pycharm": {
     "name": "#%%\n"
    }
   },
   "outputs": [],
   "source": [
    "currency_pairs = [\n",
    "    'EURUSD'\n",
    "]"
   ]
  },
  {
   "cell_type": "markdown",
   "metadata": {},
   "source": [
    "### Process the Files\n",
    "For each currecny pair you want to go inside each configured year and create the filename then import it using the\n",
    "**import_from_dukascopy_ohlc** function."
   ]
  },
  {
   "cell_type": "code",
   "execution_count": 38,
   "metadata": {
    "pycharm": {
     "name": "#%%\n"
    }
   },
   "outputs": [
    {
     "name": "stdout",
     "output_type": "stream",
     "text": [
      "Importing from EURUSDM12018.csv\n",
      "Done Importing\n",
      "####################################\n",
      "Importing from EURUSDM12019.csv\n",
      "Done Importing\n",
      "####################################\n"
     ]
    }
   ],
   "source": [
    "for currency_pair in currency_pairs:\n",
    "    for year in years:\n",
    "        path = currency_pair + 'M1' + year\n",
    "        print('Importing from '+path+'.csv')\n",
    "        import_from_dukascopy_ohlc(path=path, currency_pair=currency_pair, year=year, delimiter=',')\n",
    "        print('Done Importing')\n",
    "        print('####################################')"
   ]
  },
  {
   "cell_type": "code",
   "execution_count": null,
   "outputs": [],
   "source": [],
   "metadata": {
    "collapsed": false,
    "pycharm": {
     "name": "#%%\n"
    }
   }
  },
  {
   "cell_type": "code",
   "execution_count": null,
   "metadata": {},
   "outputs": [],
   "source": []
  }
 ],
 "metadata": {
  "kernelspec": {
   "display_name": "Python 3",
   "language": "python",
   "name": "python3"
  },
  "language_info": {
   "codemirror_mode": {
    "name": "ipython",
    "version": 3
   },
   "file_extension": ".py",
   "mimetype": "text/x-python",
   "name": "python",
   "nbconvert_exporter": "python",
   "pygments_lexer": "ipython3",
   "version": "3.8.5"
  }
 },
 "nbformat": 4,
 "nbformat_minor": 1
}